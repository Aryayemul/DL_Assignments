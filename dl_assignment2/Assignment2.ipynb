{
 "cells": [
  {
   "cell_type": "code",
   "execution_count": 2,
   "id": "7d4114a6",
   "metadata": {},
   "outputs": [
    {
     "name": "stdout",
     "output_type": "stream",
     "text": [
      "Found existing installation: opencv-python 4.12.0.88\n",
      "Uninstalling opencv-python-4.12.0.88:\n",
      "  Successfully uninstalled opencv-python-4.12.0.88\n",
      "Found existing installation: opencv-contrib-python 4.12.0.88\n",
      "Uninstalling opencv-contrib-python-4.12.0.88:\n",
      "  Successfully uninstalled opencv-contrib-python-4.12.0.88\n"
     ]
    },
    {
     "name": "stderr",
     "output_type": "stream",
     "text": [
      "WARNING: Failed to remove contents in a temporary directory 'C:\\Users\\DELL\\AppData\\Local\\Temp\\pip-uninstall-pm3_w8l5'.\n",
      "You can safely remove it manually.\n"
     ]
    },
    {
     "name": "stdout",
     "output_type": "stream",
     "text": [
      "Defaulting to user installation because normal site-packages is not writeable\n",
      "Collecting opencv-contrib-python\n",
      "  Using cached opencv_contrib_python-4.12.0.88-cp37-abi3-win_amd64.whl.metadata (20 kB)\n",
      "Requirement already satisfied: numpy<2.3.0,>=2 in c:\\users\\dell\\appdata\\roaming\\python\\python313\\site-packages (from opencv-contrib-python) (2.2.1)\n",
      "Using cached opencv_contrib_python-4.12.0.88-cp37-abi3-win_amd64.whl (45.3 MB)\n",
      "Installing collected packages: opencv-contrib-python\n",
      "Successfully installed opencv-contrib-python-4.12.0.88\n"
     ]
    },
    {
     "name": "stderr",
     "output_type": "stream",
     "text": [
      "\n",
      "[notice] A new release of pip is available: 25.0.1 -> 25.2\n",
      "[notice] To update, run: python.exe -m pip install --upgrade pip\n"
     ]
    }
   ],
   "source": [
    "!pip uninstall opencv-python opencv-contrib-python -y\n",
    "!pip install opencv-contrib-python"
   ]
  },
  {
   "cell_type": "code",
   "execution_count": 1,
   "id": "063ee24e",
   "metadata": {},
   "outputs": [
    {
     "name": "stdout",
     "output_type": "stream",
     "text": [
      "['BIF', 'BIF_create', 'BasicFaceRecognizer', 'EigenFaceRecognizer', 'EigenFaceRecognizer_create', 'FaceRecognizer', 'Facemark', 'FacemarkAAM', 'FacemarkKazemi', 'FacemarkLBF', 'FacemarkTrain', 'FisherFaceRecognizer', 'FisherFaceRecognizer_create', 'LBPHFaceRecognizer', 'LBPHFaceRecognizer_create', 'MACE', 'MACE_create', 'MACE_load', 'PredictCollector', 'StandardCollector', 'StandardCollector_create', '__doc__', '__file__', '__loader__', '__name__', '__package__', '__path__', '__spec__', '_native', 'createFacemarkAAM', 'createFacemarkKazemi', 'createFacemarkLBF', 'drawFacemarks', 'getFacesHAAR', 'loadDatasetList', 'loadFacePoints', 'loadTrainingData']\n"
     ]
    }
   ],
   "source": [
    "import cv2 as cv\n",
    "\n",
    "print(dir(cv.face))\n",
    "\n",
    "face_recognizer = cv.face.LBPHFaceRecognizer_create()"
   ]
  },
  {
   "cell_type": "code",
   "execution_count": 1,
   "id": "99c9bc73",
   "metadata": {},
   "outputs": [
    {
     "name": "stdout",
     "output_type": "stream",
     "text": [
      "Training done\n"
     ]
    }
   ],
   "source": [
    "import os\n",
    "import cv2 as cv\n",
    "import numpy as np\n",
    "\n",
    "people = ['Ben Afflek','Elton John','Jerry Seinfield','Madonna','Mindy Kaling']\n",
    "\n",
    "\n",
    "# p = []\n",
    "# for i in os.listdir(r'C:\\Users\\DELL\\vs_code\\openCV\\Faces\\train'):\n",
    "#     p.append(i)\n",
    "# print(p)\n",
    "\n",
    "DIR = r'C:\\Users\\DELL\\vs_code\\openCV\\Faces\\train'\n",
    "\n",
    "haar_cascade = cv.CascadeClassifier('haar_face.xml')\n",
    "features = []\n",
    "labels = []\n",
    "\n",
    "def create_train():\n",
    "    for person in people:\n",
    "        path = os.path.join(DIR,person)\n",
    "        label = people.index(person)\n",
    "\n",
    "        for img in os.listdir(path):\n",
    "            img_path = os.path.join(path,img)\n",
    "\n",
    "            img_array = cv.imread(img_path)\n",
    "            gray = cv.cvtColor(img_array,cv.COLOR_BGR2GRAY)\n",
    "\n",
    "            faces_react = haar_cascade.detectMultiScale(gray,scaleFactor=1.1,minNeighbors=4)\n",
    "\n",
    "            for (x,y,w,h) in faces_react:\n",
    "                faces_roi = gray[y:y+h , x:x+w]\n",
    "                features.append(faces_roi)\n",
    "                labels.append(label)\n",
    "\n",
    "create_train()\n",
    "print('Training done')\n",
    "# print(f'Lenght of the features = {len(features)}')\n",
    "# print(f'Lenght of the labels = {len(labels)}')\n",
    "\n",
    "features = np.array(features,dtype='object')\n",
    "labels=np.array(labels)\n",
    "\n",
    "face_recognizer = cv.face.LBPHFaceRecognizer_create()\n",
    "\n",
    "\n",
    "\n",
    "#Train the Recognizer on the features list and the labels list\n",
    "face_recognizer.train(features,labels)\n",
    "\n",
    "face_recognizer.save('face_train.yml')\n",
    "np.save('features.npy',features)\n",
    "np.save('labels.npy',labels)\n",
    "\n",
    "\n",
    "\n",
    "            \n"
   ]
  },
  {
   "cell_type": "code",
   "execution_count": 2,
   "id": "af4f4b22",
   "metadata": {},
   "outputs": [
    {
     "name": "stdout",
     "output_type": "stream",
     "text": [
      "Label = 0 wit a confidence of 90.68315264609629\n"
     ]
    },
    {
     "data": {
      "text/plain": [
       "-1"
      ]
     },
     "execution_count": 2,
     "metadata": {},
     "output_type": "execute_result"
    }
   ],
   "source": [
    "import numpy as np\n",
    "import cv2 as cv\n",
    "\n",
    "haar_cascade = cv.CascadeClassifier('haar_face.xml')\n",
    "\n",
    "people = ['Ben Afflek','Elton John','Jerry Seinfield','Madonna','Mindy Kaling']\n",
    "\n",
    "# features = np.load('features.npy',allow_pickle=True)\n",
    "# labels = np.load('labels.npy',allow_pickle=True)\n",
    "\n",
    "face_recognizer = cv.face.LBPHFaceRecognizer_create()\n",
    "face_recognizer.read(\"face_train.yml\")\n",
    "\n",
    "img = cv.imread(r'C:\\Users\\DELL\\vs_code\\openCV\\Faces\\val\\ben_afflek\\3.jpg')\n",
    "\n",
    "gray = cv.cvtColor(img,cv.COLOR_BGR2GRAY)\n",
    "cv.imshow('Person',gray)\n",
    "\n",
    "#Detect the face in the image\n",
    "faces_rect = haar_cascade.detectMultiScale(gray,1.1,4)\n",
    "for(x,y,w,h) in faces_rect:\n",
    "    faces_roi = gray[y:y+h,x:x+w]\n",
    "\n",
    "    label,confidence = face_recognizer.predict(faces_roi)\n",
    "    print(f'Label = {label} wit a confidence of {confidence}')\n",
    "\n",
    "    cv.putText(img,str(people[label]), (20,20),cv.FONT_HERSHEY_COMPLEX,1.0,(0,255,0),thickness=2)\n",
    "    cv.rectangle(img,(x,y),(x+w,y+h),(0,255,0),thickness=2)\n",
    "\n",
    "cv.imshow('Detected face',img)\n",
    "cv.waitKey(0)"
   ]
  },
  {
   "cell_type": "code",
   "execution_count": null,
   "id": "e046928c",
   "metadata": {},
   "outputs": [],
   "source": []
  }
 ],
 "metadata": {
  "kernelspec": {
   "display_name": "Python 3",
   "language": "python",
   "name": "python3"
  },
  "language_info": {
   "codemirror_mode": {
    "name": "ipython",
    "version": 3
   },
   "file_extension": ".py",
   "mimetype": "text/x-python",
   "name": "python",
   "nbconvert_exporter": "python",
   "pygments_lexer": "ipython3",
   "version": "3.13.2"
  }
 },
 "nbformat": 4,
 "nbformat_minor": 5
}
